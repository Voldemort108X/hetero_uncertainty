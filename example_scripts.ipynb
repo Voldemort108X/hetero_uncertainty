{
 "cells": [
  {
   "cell_type": "markdown",
   "metadata": {},
   "source": [
    "## Testing"
   ]
  },
  {
   "cell_type": "markdown",
   "metadata": {},
   "source": [
    "vxm"
   ]
  },
  {
   "cell_type": "code",
   "execution_count": 7,
   "metadata": {},
   "outputs": [
    {
     "name": "stdout",
     "output_type": "stream",
     "text": [
      "  0%|                                                   | 0/538 [00:00<?, ?it/s]/home/xiaoranzhang/anaconda3/envs/hetero_env/lib/python3.6/site-packages/torch/nn/functional.py:3658: UserWarning: The default behavior for interpolate/upsample with float scale_factor changed in 1.6.0 to align with other frameworks/libraries, and now uses scale_factor directly, instead of relying on the computed output size. If you wish to restore the old behavior, please set recompute_scale_factor=True. See the documentation of nn.Upsample for details. \n",
      "  \"The default behavior for interpolate/upsample with float scale_factor changed \"\n",
      "100%|█████████████████████████████████████████| 538/538 [01:15<00:00,  7.16it/s]\n"
     ]
    }
   ],
   "source": [
    "!python src/voxelmorph/test.py --dataset 'ACDC' --test-dir '../../Dataset/ACDC/test/' --result-dir '../../Results/hetero_uncertainty/ACDC/vxm_ACDC_hetero/' --model-motion '../../Models/hetero_uncertainty/vxm_ACDC_motion.pt' --model-variance '../../Models/hetero_uncertainty/vxm_ACDC_variance.pt' --inshape 128 128"
   ]
  },
  {
   "cell_type": "code",
   "execution_count": 9,
   "metadata": {},
   "outputs": [
    {
     "name": "stdout",
     "output_type": "stream",
     "text": [
      "  0%|                                                   | 0/200 [00:00<?, ?it/s]/home/xiaoranzhang/anaconda3/envs/hetero_env/lib/python3.6/site-packages/torch/nn/functional.py:3658: UserWarning: The default behavior for interpolate/upsample with float scale_factor changed in 1.6.0 to align with other frameworks/libraries, and now uses scale_factor directly, instead of relying on the computed output size. If you wish to restore the old behavior, please set recompute_scale_factor=True. See the documentation of nn.Upsample for details. \n",
      "  \"The default behavior for interpolate/upsample with float scale_factor changed \"\n",
      "100%|█████████████████████████████████████████| 200/200 [00:38<00:00,  5.24it/s]\n"
     ]
    }
   ],
   "source": [
    "!python src/voxelmorph/test.py --dataset 'CAMUS' --test-dir '../../Dataset/CAMUS/test/' --result-dir '../../Results/hetero_uncertainty/CAMUS/vxm_CAMUS_hetero/' --model-motion '../../Models/hetero_uncertainty/vxm_CAMUS_motion.pt' --model-variance '../../Models/hetero_uncertainty/vxm_CAMUS_variance.pt' --inshape 128 128"
   ]
  },
  {
   "cell_type": "markdown",
   "metadata": {},
   "source": [
    "tsm"
   ]
  },
  {
   "cell_type": "code",
   "execution_count": 2,
   "metadata": {},
   "outputs": [
    {
     "name": "stdout",
     "output_type": "stream",
     "text": [
      "100%|█████████████████████████████████████████| 538/538 [01:26<00:00,  6.23it/s]\n"
     ]
    }
   ],
   "source": [
    "!python src/transmorph/test.py --dataset 'ACDC' --test-dir '../../Dataset/ACDC/test/' --result-dir '../../Results/hetero_uncertainty/ACDC/tsm_ACDC_hetero' --model-motion '../../Models/hetero_uncertainty/tsm_ACDC_motion.pt' --model-variance '../../Models/hetero_uncertainty/tsm_ACDC_variance.pt' --inshape 128 128"
   ]
  },
  {
   "cell_type": "code",
   "execution_count": 3,
   "metadata": {},
   "outputs": [
    {
     "name": "stdout",
     "output_type": "stream",
     "text": [
      "100%|█████████████████████████████████████████| 200/200 [00:28<00:00,  7.13it/s]\n"
     ]
    }
   ],
   "source": [
    "!python src/transmorph/test.py --dataset 'CAMUS' --test-dir '../../Dataset/CAMUS/test/' --result-dir '../../Results/hetero_uncertainty/CAMUS/tsm_CAMUS_hetero' --model-motion '../../Models/hetero_uncertainty/tsm_CAMUS_motion.pt' --model-variance '../../Models/hetero_uncertainty/tsm_CAMUS_variance.pt' --inshape 128 128"
   ]
  }
 ],
 "metadata": {
  "kernelspec": {
   "display_name": "hetero_env",
   "language": "python",
   "name": "python3"
  },
  "language_info": {
   "codemirror_mode": {
    "name": "ipython",
    "version": 3
   },
   "file_extension": ".py",
   "mimetype": "text/x-python",
   "name": "python",
   "nbconvert_exporter": "python",
   "pygments_lexer": "ipython3",
   "version": "3.6.13"
  }
 },
 "nbformat": 4,
 "nbformat_minor": 2
}
