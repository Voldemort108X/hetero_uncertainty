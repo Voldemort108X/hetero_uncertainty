{
 "cells": [
  {
   "cell_type": "markdown",
   "metadata": {},
   "source": [
    "# Contour-based evaluation"
   ]
  },
  {
   "cell_type": "code",
   "execution_count": 1,
   "metadata": {},
   "outputs": [
    {
     "name": "stdout",
     "output_type": "stream",
     "text": [
      "dice 0.8072623503413928\n",
      "jaccard 0.6845968518836318\n",
      "hd 4.574908566066363\n",
      "asd 1.2091974761871542\n"
     ]
    }
   ],
   "source": [
    "from metrics import compute_metric\n",
    "import numpy as np\n",
    "\n",
    "test_dir = '../../Results/hetero_uncertainty/ACDC/vxm_ACDC_hetero/'\n",
    "\n",
    "dice_list, jc_list, hd_list, asd_list = compute_metric(test_dir)\n",
    "\n",
    "print('dice', np.mean(dice_list))\n",
    "print('jaccard', np.mean(jc_list))\n",
    "print('hd', np.mean(hd_list))\n",
    "print('asd', np.mean(asd_list))"
   ]
  },
  {
   "cell_type": "code",
   "execution_count": 2,
   "metadata": {},
   "outputs": [
    {
     "name": "stdout",
     "output_type": "stream",
     "text": [
      "dice 0.8196482335392077\n",
      "jaccard 0.6979673405381288\n",
      "hd 8.801071118698427\n",
      "asd 1.6599926915702161\n"
     ]
    }
   ],
   "source": [
    "from metrics import compute_metric\n",
    "import numpy as np\n",
    "\n",
    "test_dir = '../../Results/hetero_uncertainty/CAMUS/vxm_CAMUS_hetero/'\n",
    "\n",
    "dice_list, jc_list, hd_list, asd_list = compute_metric(test_dir)\n",
    "\n",
    "print('dice', np.mean(dice_list))\n",
    "print('jaccard', np.mean(jc_list))\n",
    "print('hd', np.mean(hd_list))\n",
    "print('asd', np.mean(asd_list))"
   ]
  },
  {
   "cell_type": "code",
   "execution_count": 3,
   "metadata": {},
   "outputs": [
    {
     "name": "stdout",
     "output_type": "stream",
     "text": [
      "dice 0.7812279455892794\n",
      "jaccard 0.6500514887384299\n",
      "hd 5.040038789949433\n",
      "asd 1.2592082241076203\n"
     ]
    }
   ],
   "source": [
    "from metrics import compute_metric\n",
    "import numpy as np\n",
    "\n",
    "test_dir = '../../Results/hetero_uncertainty/ACDC/tsm_ACDC_hetero/'\n",
    "\n",
    "dice_list, jc_list, hd_list, asd_list = compute_metric(test_dir)\n",
    "\n",
    "print('dice', np.mean(dice_list))\n",
    "print('jaccard', np.mean(jc_list))\n",
    "print('hd', np.mean(hd_list))\n",
    "print('asd', np.mean(asd_list))"
   ]
  },
  {
   "cell_type": "code",
   "execution_count": 5,
   "metadata": {},
   "outputs": [
    {
     "name": "stdout",
     "output_type": "stream",
     "text": [
      "dice 0.8038017260949181\n",
      "jaccard 0.6761648512231798\n",
      "hd 9.859107890215093\n",
      "asd 1.720556727610815\n"
     ]
    }
   ],
   "source": [
    "from metrics import compute_metric\n",
    "import numpy as np\n",
    "\n",
    "test_dir = '../../Results/hetero_uncertainty/CAMUS/tsm_CAMUS_hetero/'\n",
    "\n",
    "dice_list, jc_list, hd_list, asd_list = compute_metric(test_dir)\n",
    "\n",
    "print('dice', np.mean(dice_list))\n",
    "print('jaccard', np.mean(jc_list))\n",
    "print('hd', np.mean(hd_list))\n",
    "print('asd', np.mean(asd_list))"
   ]
  },
  {
   "cell_type": "markdown",
   "metadata": {},
   "source": [
    "# Uncertainty quantification"
   ]
  },
  {
   "cell_type": "markdown",
   "metadata": {},
   "source": [
    "We employ sparsification error plots as a quantitative measure to evaluate the accuracy of our estimated variance, $\\hat{\\sigma}_I^2$. To generate these plots, we iteratively remove one pixel at a time in descending order of uncertainty magnitude and calculate the mean squared error (MSE) of the remaining pixels, given by $E_{\\Omega - \\Omega_x}[(I_f - \\hat{I}_f)^2]$. Ideally, a sparsification error plot should exhibit a monotonic decrease, signifying that the estimated uncertainty map effectively identifies pixels with the largest errors.\n"
   ]
  },
  {
   "cell_type": "code",
   "execution_count": 6,
   "metadata": {},
   "outputs": [],
   "source": [
    "from ause import compute_aucs\n",
    "from scipy.io import loadmat, savemat\n",
    "import seaborn as sns\n",
    "import numpy as np\n",
    "import os\n",
    "sns.set_theme()"
   ]
  },
  {
   "cell_type": "code",
   "execution_count": 7,
   "metadata": {},
   "outputs": [],
   "source": [
    "import matplotlib.pyplot as plt\n",
    "from matplotlib import rc\n",
    "font_size = 15\n",
    "rc={'font.size' : font_size, \n",
    "    'font.family' : 'Arial',\n",
    "    'axes.labelsize': font_size,   \n",
    "    'legend.fontsize': font_size, \n",
    "    'axes.titlesize': font_size, \n",
    "    'xtick.labelsize': font_size, \n",
    "    'ytick.labelsize': font_size}\n",
    "sns.set(font = 'Arial', rc=rc)\n",
    "sns.set_style(\"ticks\", {'axes.edgecolor': 'k', \n",
    "                        'axes.linewidth': 1, \n",
    "                        'axes.grid': True,\n",
    "                        'xtick.major.width': 1,\n",
    "                        'ytick.major.width': 1})\n",
    "\n",
    "plt.rcParams.update({'figure.autolayout': False})"
   ]
  },
  {
   "cell_type": "code",
   "execution_count": 8,
   "metadata": {},
   "outputs": [],
   "source": [
    "def cal_ause(result_dir_list, uncertainty_type, metric_name='mse', numOfSample=100):\n",
    "    assert uncertainty_type in ['logsigma_image', 'logsigma_flow']\n",
    "    numOfMethods = len(result_dir_list)\n",
    "    numOfFiles = len(os.listdir(result_dir_list[0]))\n",
    "\n",
    "    ause_list_all = []\n",
    "    sparse_curve_list_all = []\n",
    "\n",
    "    rand_indices = np.random.choice(numOfFiles, numOfSample) # save computation time\n",
    "    \n",
    "    for i_method in range(numOfMethods):\n",
    "        # iterate through all samples\n",
    "        \n",
    "        ause_list = []\n",
    "        sparse_curve_list = []\n",
    "        for idx in rand_indices:\n",
    "\n",
    "            file_name = os.listdir(result_dir_list[i_method])[idx]\n",
    "            file = loadmat(os.path.join(result_dir_list[i_method], file_name))\n",
    "\n",
    "            # pred = file['im_ES_pred']\n",
    "            # gt = file['im_ES']\n",
    "            if file[uncertainty_type].shape[-1] == 2: # for voxelmorph-diff\n",
    "                uncertainty = np.log(np.exp(file[uncertainty_type][:,:,0]) + np.exp(file[uncertainty_type][:,:,1])) # log(sigma_x^2 + sigma_y^2)\n",
    "                metric_out, sparse_curve, opt_curve, plotx = compute_aucs(gt=file['im_ES'], pred=file['im_ES_pred'], uncert=uncertainty)\n",
    "            elif file[uncertainty_type].shape[-1] == 3: # for voxelmorph-diff\n",
    "                uncertainty = np.log(np.exp(file[uncertainty_type][:,:,:,0]) + np.exp(file[uncertainty_type][:,:,:,1]) + np.exp(file[uncertainty_type][:,:,:,2])) # log(sigma_x^2 + sigma_y^2)\n",
    "                metric_out, sparse_curve, opt_curve, plotx = compute_aucs(gt=file['im_ES'], pred=file['im_ES_pred'], uncert=uncertainty)\n",
    "            else:\n",
    "                metric_out, sparse_curve, opt_curve, plotx = compute_aucs(gt=file['im_ES'], pred=file['im_ES_pred'], uncert=file[uncertainty_type])\n",
    "\n",
    "                # plt.imshow(file[uncertainty_type])\n",
    "                # plt.show()\n",
    "\n",
    "            ause_list.append(metric_out[metric_name])\n",
    "            sparse_curve_list.append(sparse_curve[metric_name])\n",
    "        \n",
    "        ause_list_all.append(ause_list)\n",
    "        sparse_curve_list_all.append(sparse_curve_list)\n",
    "    \n",
    "    return ause_list_all, sparse_curve_list_all, plotx"
   ]
  },
  {
   "cell_type": "code",
   "execution_count": 9,
   "metadata": {},
   "outputs": [],
   "source": [
    "def plot_ause(sparse_curve_arr, ause_arr, plotx, result_names):\n",
    "    fig, axes = plt.subplots(1, 1)\n",
    "    fig.set_size_inches(6,5)\n",
    "\n",
    "    for i in range(len(result_names)):\n",
    "        axes.plot(np.array(plotx), sparse_curve_arr[i], label=str(result_names[i])+' (%.5f)' % ause_arr[i][0])\n",
    "    axes.legend(loc='upper right')\n",
    "    axes.set_xlabel('Removing x fraction of voxels')\n",
    "    axes.set_ylabel('Sparsification Error for MSE')\n",
    "\n",
    "    return fig"
   ]
  },
  {
   "cell_type": "code",
   "execution_count": 10,
   "metadata": {},
   "outputs": [],
   "source": [
    "result_dir = '../../Results/hetero_uncertainty/ACDC/vxm_ACDC_hetero/'\n",
    "\n",
    "result_dir_list = [result_dir]\n",
    "numOfSamples = len(os.listdir(result_dir))\n",
    "\n",
    "ause_list, sparse_curve_list, plotx = cal_ause(result_dir_list, 'logsigma_image', numOfSample=numOfSamples)\n",
    "\n",
    "ause_arr = np.array(ause_list)\n",
    "sparse_curve_arr = np.array(sparse_curve_list)\n",
    "\n",
    "ause_arr = np.mean(ause_arr, axis=1)\n",
    "sparse_curve_arr = np.mean(sparse_curve_arr, axis=1) # average across selected samples"
   ]
  },
  {
   "cell_type": "code",
   "execution_count": 11,
   "metadata": {},
   "outputs": [
    {
     "data": {
      "image/png": "[encoded data removed]",
      "text/plain": [
       "<Figure size 432x360 with 1 Axes>"
      ]
     },
     "metadata": {},
     "output_type": "display_data"
    }
   ],
   "source": [
    "result_names = ['Ours']\n",
    "fig = plot_ause(sparse_curve_arr, ause_arr, plotx, result_names)"
   ]
  },
  {
   "cell_type": "markdown",
   "metadata": {},
   "source": []
  }
 ],
 "metadata": {
  "kernelspec": {
   "display_name": "hetero_env",
   "language": "python",
   "name": "python3"
  },
  "language_info": {
   "codemirror_mode": {
    "name": "ipython",
    "version": 3
   },
   "file_extension": ".py",
   "mimetype": "text/x-python",
   "name": "python",
   "nbconvert_exporter": "python",
   "pygments_lexer": "ipython3",
   "version": "3.6.13"
  }
 },
 "nbformat": 4,
 "nbformat_minor": 2
}
